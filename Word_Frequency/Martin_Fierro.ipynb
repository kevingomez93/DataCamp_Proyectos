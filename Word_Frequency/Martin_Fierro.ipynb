{
 "cells": [
  {
   "cell_type": "markdown",
   "metadata": {},
   "source": [
    "# 1. Herramientas para procesamiento de texto \n",
    "<p><img style=\"float: right ; margin: 5px 20px 5px 10px; width: 45%\" src=\"https://es.wikipedia.org/wiki/El_Gaucho_Mart%C3%ADn_Fierro#/media/Archivo:Gaucho.jpg\"> </p>\n",
    "<p>Cúal es la palabra más frecuente en el lbro \"El Martin Fierro\", y cuántas veces sale en dicho libro ?</p>\n",
    "<p>En éste notebook, vamos a scrappear el libro <em>El Martin Fierro</em> del sitio <a href=\"https://www.gutenberg.org/\">Project Gutenberg</a> (que es  una buena fuente de libros) usando el package de Python <code>requests</code>. Despúés vamos a estar consultadon la data con <code>BeautifulSoup</code>.Finalmente, vamos a estar analizando las distribuciones de las palabras usando Natural Language ToolKit (<code>nltk</code>). </p>\n",
    "<p>El<em>Data Science pipeline</em> que vamos a estar construyendo en éste notebook puede aplicarse a cualquier texto que queramos usar. </p>\n",
    "<p>Primero, vamos a cargar las tres libreías que vamos a usar</p>"
   ]
  },
  {
   "cell_type": "code",
   "execution_count": 6,
   "metadata": {},
   "outputs": [],
   "source": [
    "# Importando requests, BeautifulSoup y nltk\n",
    "\n",
    "import requests\n",
    "from bs4 import BeautifulSoup\n",
    "import nltk"
   ]
  },
  {
   "cell_type": "markdown",
   "metadata": {},
   "source": [
    "## 2. Buscar El Martin Fierro\n",
    "<p>Para analizar El Martin Fierro, debemos obtener el texto de <em>algún lado</em>. Por suerte, el libro lo pueden obtener desde acá: https://www.gutenberg.org/cache/epub/14765/pg14765.txt.</p>\n",
    "<p>Ahora vamos a usar <code>request</code> package para hacer un <code>GET</code> request al sitio, que significa que vamos a estar <em>obteniendo</em> data de éste. Ésto es lo podrás hace manualmente, perto lo podemos hacer automáticamente con Python. </p>"
   ]
  },
  {
   "cell_type": "code",
   "execution_count": 7,
   "metadata": {},
   "outputs": [
    {
     "name": "stdout",
     "output_type": "stream",
     "text": [
      "﻿The Project Gutenberg EBook of El Gaucho Martín F\n"
     ]
    }
   ],
   "source": [
    "# Obteniendo el txt del libro \n",
    "r = requests.get('https://www.gutenberg.org/cache/epub/14765/pg14765.txt')\n",
    "\n",
    "# Seteando el text encoding por si lo obtengo también por HTML\n",
    "r.encoding = 'utf-8'\n",
    "\n",
    "# Extrayendo el HTML del request\n",
    "html = r.text\n",
    "\n",
    "# Obteniendo los primeros 2000 caracteres en HMTL\n",
    "print(html[0:50])"
   ]
  },
  {
   "cell_type": "markdown",
   "metadata": {},
   "source": [
    "## 3. Obteniendo el texto desde el HTML\n",
    "<p>Éste HTML no es lo que queremos. De cualquier manera, lo que <em>contiene</em> es lo que queremos: El texto de  <em>El Martin Fierro</em>. Lo que queremos hacer es extraer el texto del libro. Para ésto vamos a estar usando <code>BeautifulSoup</code>.</p>\n",
    "<p>Primero, hablemos sobre BeautifulSoup: Beautiful Soup? En web Development, el término \"tag soup\" refiere a una estructura o sintaxis incorrecta del código HTML escrita para una web. Lo que Beautiful Soup hace es estructurar de una mejor manera de la cual se pueda obtener mejores tipos de tag para finalmente sacar el texto. Despues de aplicar dicho package, vamos a usar <code>.get_text()</code> como método de extracción de texto.</p>"
   ]
  },
  {
   "cell_type": "code",
   "execution_count": 8,
   "metadata": {},
   "outputs": [],
   "source": [
    "# Creando un objeto BeautifulSoup desde el HTML\n",
    "soup = BeautifulSoup(html, 'html.parser')\n",
    "\n",
    "# Obtenniendo el texto\n",
    "text = soup.get_text()"
   ]
  },
  {
   "cell_type": "markdown",
   "metadata": {},
   "source": [
    "## 4. Extrayendo las palabras\n",
    "<p>Ahora ya tenemos el texto del libro! Vamos a ir borrando las cosas que no nos sirvan, lo que llamamos las Stopwords</p>\n",
    "<p>Para obtener la cantidad de palabras que existen en el texto, vamos a usar<code>nltk</code> – el Natural Language Toolkit. Empecemos tokenizando el texto, ésto es, remover cualquier cosa que no sea una palabra (espacios, puntuación, etc.). Ahora a splittear todo!.</p>"
   ]
  },
  {
   "cell_type": "code",
   "execution_count": 10,
   "metadata": {},
   "outputs": [],
   "source": [
    "# Creando el tokenizer\n",
    "tokenizer = nltk.tokenize.RegexpTokenizer('\\w+')\n",
    "\n",
    "# Tokenizando el texto\n",
    "tokens = tokenizer.tokenize(text)"
   ]
  },
  {
   "cell_type": "markdown",
   "metadata": {},
   "source": [
    "## 5. Pasar todo a lowercase\n",
    "<p>Para poder hacer una mejor distribución de palabras: </p>"
   ]
  },
  {
   "cell_type": "code",
   "execution_count": 11,
   "metadata": {},
   "outputs": [
    {
     "name": "stdout",
     "output_type": "stream",
     "text": [
      "['the', 'project', 'gutenberg', 'ebook', 'of', 'el', 'gaucho', 'martín']\n"
     ]
    }
   ],
   "source": [
    "# Una nueva lista todas en Mayuscula\n",
    "words = []\n",
    "\n",
    "# Loopenado a través de los tokens y haciendolas Mayuscula\n",
    "for word in tokens:\n",
    "    words.append(word.lower())\n",
    "\n",
    "# Las primras 5 palabras / tokens \n",
    "print(words[:8])"
   ]
  },
  {
   "cell_type": "markdown",
   "metadata": {},
   "source": [
    "## 6. Cargar las stop words\n",
    "<p>Es común remover que pueden aparecer repetidas veces en un texto y que no nos sirvan, como la palabra 'el', 'la' and 'de' ya que no son de nuestro interés. Ésas palabras las conocemos como <em>stop words</em>. Vamos a cargar las stop words del idima Inglés y Español, ya que el libro tiene parte del libro escrita en ambos idiomas </p>"
   ]
  },
  {
   "cell_type": "code",
   "execution_count": 13,
   "metadata": {},
   "outputs": [
    {
     "name": "stdout",
     "output_type": "stream",
     "text": [
      "['the', 'project', 'gutenberg', 'ebook', 'of', 'el', 'gaucho', 'martín']\n"
     ]
    }
   ],
   "source": [
    "# Guardando las stop words en una lista\n",
    "sw = ['a',\n",
    "'acá',\n",
    "'ahí',\n",
    "'ajena',\n",
    "'al',\n",
    "'algo',\n",
    "'algún',\n",
    "'allá',\n",
    "'ambos',\n",
    "'ante',\n",
    "'antes',\n",
    "'aquel',\n",
    "'aquella',\n",
    "'aquí',\n",
    "'arriba',\n",
    "'así',\n",
    "'atrás',\n",
    "'aun',\n",
    "'aunque',\n",
    "'bajo',\n",
    "'bastante',\n",
    "'bien',\n",
    "'cabe',\n",
    "'cada',\n",
    "'casi',\n",
    "'cierto',\n",
    "'como',\n",
    "'con',\n",
    "'conmigo',\n",
    "'conseguimos',\n",
    "'conseguir',\n",
    "'consigo',\n",
    "'consigue',\n",
    "'consiguen',\n",
    "'consigues',\n",
    "'contigo',\n",
    "'contra',\n",
    "'cual',\n",
    "'cuales',\n",
    "'cualquier',\n",
    "'cuan',\n",
    "'cuando',\n",
    "'cuanto',\n",
    "'de',\n",
    "'dejar',\n",
    "'del',\n",
    "'demás',\n",
    "'demasiada'\n",
    "'dentro',\n",
    "'desde',\n",
    "'donde',\n",
    "'dos',\n",
    "'el',\n",
    "'él',\n",
    "'ella',\n",
    "'empleáis',\n",
    "'emplean',\n",
    "'emplear',\n",
    "'empleas',\n",
    "'empleo',\n",
    "'en',\n",
    "'encima',\n",
    "'entonces',\n",
    "'entre',\n",
    "'era',\n",
    "'eramos',\n",
    "'eran',\n",
    "'eres',\n",
    "'es',\n",
    "'esa',\n",
    "'esta',\n",
    "'estaba',\n",
    "'estado',\n",
    "'estáis',\n",
    "'estamos',\n",
    "'están',\n",
    "'estar',\n",
    "'este',\n",
    "'estoy',\n",
    "'etc',\n",
    "'fin',\n",
    "'fue',\n",
    "'fueron',\n",
    "'fui',\n",
    "'fuimos',\n",
    "'gueno',\n",
    "'ha',\n",
    "'hace',\n",
    "'hacéis',\n",
    "'hacemos',\n",
    "'hacen',\n",
    "'hacer',\n",
    "'hacia',\n",
    "'hago',\n",
    "'hasta',\n",
    "'incluso',\n",
    "'intenta',\n",
    "'intentáis',\n",
    "'intentamos',\n",
    "'intentan',\n",
    "'intentar',\n",
    "'intento',\n",
    "'ir',\n",
    "'jamás',\n",
    "'junto',\n",
    "'la',\n",
    "'largo',\n",
    "'los',\n",
    "'lo', \n",
    "'la',\n",
    "'las',\n",
    "'le',\n",
    "'pa',\n",
    "'o',      \n",
    "'más',\n",
    "'me',\n",
    "'menos',\n",
    "'mi',\n",
    "'mía',\n",
    "'mientras',\n",
    "'mío',\n",
    "'misma',\n",
    "'modo',\n",
    "'mucha',\n",
    "'muchísima',\n",
    "'mucho',\n",
    "'muy',\n",
    "'nada',\n",
    "'ni',\n",
    "'ningún',\n",
    "'no',\n",
    "'nos',\n",
    "'nosotras',\n",
    "'nuestra',\n",
    "'nunca',\n",
    "'os',\n",
    "'otra',\n",
    "'para',\n",
    "'parecer',\n",
    "'pero',\n",
    "'poca',\n",
    "'podéis',\n",
    "'podemos',\n",
    "'poder',\n",
    "'podría',\n",
    "'podríais',\n",
    "'podríamos',\n",
    "'podrían',\n",
    "'por',\n",
    "'por',\n",
    "'porque',\n",
    "'primero',\n",
    "'puede',\n",
    "'puedo',\n",
    "'pues',\n",
    "'que',\n",
    "'qué',\n",
    "'querer',\n",
    "'quién',\n",
    "'quienesquiera',\n",
    "'quienquiera',\n",
    "'quizá',\n",
    "'sabe',\n",
    "'sabéis',\n",
    "'sabemos',\n",
    "'saber',\n",
    "'se',\n",
    "'según',\n",
    "'ser',\n",
    "'si',\n",
    "'sí',\n",
    "'siempre',\n",
    "'siendo',\n",
    "'sin',\n",
    "'sino',\n",
    "'so',\n",
    "'sobre',\n",
    "'sois',\n",
    "'solamente',\n",
    "'solo',\n",
    "'sólo',\n",
    "'somos',\n",
    "'soy',\n",
    "'sr',\n",
    "'sra',\n",
    "'sres',\n",
    "'sta',\n",
    "'su', 'sus',\n",
    "'suya','suyo','suyos' \n",
    "'tal',\n",
    "'también',\n",
    "'tampoco',\n",
    "'tan',\n",
    "'tanta',\n",
    "'te',\n",
    "'tenéis',\n",
    "'tenemos',\n",
    "'tener',\n",
    "'terms',\n",
    "'tengo',\n",
    "'ti',\n",
    "'tiempo',\n",
    "'tiene',\n",
    "'electronic',\n",
    "'fundation',      \n",
    "'tienen',\n",
    "'toda','todo', 'todos',\n",
    "'tomar',\n",
    "'trabaja', 'trabajo',\n",
    "'trabajáis',\n",
    "'trabajamos',\n",
    "'trabajan',\n",
    "'trabajar',\n",
    "'trabajas',\n",
    "'tras',\n",
    "'tú',\n",
    "'tu',\n",
    "'tus',\n",
    "'tuya','tuyo','tuyos'\n",
    "'último',\n",
    "'ultimo',\n",
    "'un','una', 'uno', 'unos',\n",
    "'usa', 'usas',\n",
    "'usáis',\n",
    "'usamos',\n",
    "'usan',\n",
    "'usar',\n",
    "'uso',\n",
    "'1',\n",
    "'work',\n",
    "'works',\n",
    "'usted','ustedes',\n",
    "'va','van',\n",
    "'vais',\n",
    "'valor',\n",
    "'vamos',\n",
    "'varias', 'varios',\n",
    "'vaya',\n",
    "'verdadera',\n",
    "'voy',\n",
    "'y',\n",
    "'ya',\n",
    "'yo',\n",
    "'a', 'about', 'above', 'above', 'across', 'after', 'afterwards', 'again', 'against', 'all', 'almost', 'alone', 'along', 'already', 'also','although','always','am','among', 'amongst', 'amoungst', 'amount',  'an', 'and', 'another', 'any','anyhow','anyone','anything','anyway', 'anywhere', 'are', 'around', 'as',  'at', 'back','be','became', 'because','become','becomes', 'becoming', 'been', 'before', 'beforehand', 'behind', 'being', 'below', 'beside', 'besides', 'between', 'beyond', 'bill', 'both', 'bottom','but', 'by', 'call', 'can', 'cannot', 'cant', 'co', 'con', 'could', 'couldnt', 'cry', 'de', 'describe', 'detail', 'do', 'done', 'down', 'due', 'during', 'each', 'eg', 'eight', 'either', 'eleven','else', 'elsewhere', 'empty', 'enough', 'etc', 'even', 'ever', 'every', 'everyone', 'everything', 'everywhere', 'except', 'few', 'fifteen', 'fify', 'fill', 'find', 'fire', 'first', 'five', 'for', 'former', 'formerly', 'forty', 'found', 'foundation', 'four', 'from', 'front', 'full', 'further', 'get', 'give', 'go', 'gutenberg', 'had', 'has', 'hasnt', 'have', 'he', 'hence', 'her', 'here', 'hereafter', 'hereby', 'herein', 'hereupon', 'hers', 'herself', 'him', 'himself', 'his', 'how', 'however', 'hundred', 'ie', 'if', 'in', 'inc', 'indeed', 'interest', 'into', 'is', 'it', 'its', 'itself', 'keep', 'last', 'latter', 'latterly', 'least', 'less', 'ltd', 'made', 'many', 'may', 'me', 'meanwhile', 'might', 'mill', 'mine', 'more', 'moreover', 'most', 'mostly', 'move', 'much', 'must', 'my', 'myself', 'name', 'namely', 'neither', 'never', 'nevertheless', 'next', 'nine', 'no', 'nobody', 'none', 'noone', 'nor', 'not', 'nothing', 'now', 'nowhere', 'of', 'off', 'often', 'on', 'once', 'one', 'only', 'onto', 'or', 'other', 'others', 'otherwise', 'our', 'ours', 'ourselves', 'out', 'over', 'own','part', 'per', 'perhaps', 'please', 'project', 'tm', 'put', 'rather', 're', 'same', 'see', 'seem', 'seemed', 'seeming', 'seems', 'serious', 'several', 'she', 'should', 'show', 'side', 'since', 'sincere', 'six', 'sixty', 'so', 'some', 'somehow', 'someone', 'something', 'sometime', 'sometimes', 'somewhere', 'still', 'such', 'system', 'take', 'ten', 'than', 'that', 'the', 'their', 'them', 'themselves', 'then', 'thence', 'there', 'thereafter', 'thereby', 'therefore', 'therein', 'thereupon', 'these', 'they', 'thickv', 'thin', 'third', 'this', 'those', 'though', 'three', 'through', 'throughout', 'thru', 'thus', 'to', 'together', 'too', 'top', 'toward', 'towards', 'twelve', 'twenty', 'two', 'un', 'under', 'until', 'up', 'upon', 'us', 'very', 'via', 'was', 'we', 'well', 'were', 'what', 'whatever', 'when', 'whence', 'whenever', 'where', 'whereafter', 'whereas', 'whereby', 'wherein', 'whereupon', 'wherever', 'whether', 'which', 'while', 'whither', 'who', 'whoever', 'whole', 'whom', 'whose', 'why', 'will', 'with', 'within', 'without', 'would', 'yet', 'you', 'your', 'yours', 'yourself', 'yourselves', 'the']\n",
    "\n",
    "print(words[:8])\n"
   ]
  },
  {
   "cell_type": "markdown",
   "metadata": {},
   "source": [
    "## 7. Removiendo las stop words\n",
    "<p>Ahora queremos crear una lista con todas las <code>palabras</code> en El Martin Fierro, excepto aquellas que son stop words (ésto es, aquellas palabras listadas en <code>sw</code>).</p>"
   ]
  },
  {
   "cell_type": "code",
   "execution_count": 14,
   "metadata": {},
   "outputs": [
    {
     "name": "stdout",
     "output_type": "stream",
     "text": [
      "['ebook', 'gaucho', 'martín', 'fierro', 'josé', 'hernández', 'ebook', 'use', 'cost', 'restrictions']\n"
     ]
    }
   ],
   "source": [
    "# Una lista para las No Stop words\n",
    "words_ns = []\n",
    "\n",
    "# Agregamos a words_ns todas las palabras que no están en  sw\n",
    "for word in words:\n",
    "    if word not in sw:\n",
    "        words_ns.append(word)\n",
    "\n",
    "\n",
    "print(words_ns[:10])"
   ]
  },
  {
   "cell_type": "markdown",
   "metadata": {},
   "source": [
    "## 8. Tenemos la respuestaa\n",
    "<p>Nuestra pregunta original era:</p>\n",
    "<blockquote>\n",
    "  <p>Cúal es la palabra más frecuente en el lbro \"El Martin Fierro\", y cuántas veces sale en dicho libro?</p>\n",
    "</blockquote>\n",
    "<p>Ahora lo vamos a averiguar. Creamos una distribution plot usando <code>nltk</code>. </p>"
   ]
  },
  {
   "cell_type": "code",
   "execution_count": 15,
   "metadata": {},
   "outputs": [
    {
     "data": {
      "image/png": "[encoded data removed]",
      "text/plain": [
       "<Figure size 432x288 with 1 Axes>"
      ]
     },
     "metadata": {
      "needs_background": "light"
     },
     "output_type": "display_data"
    }
   ],
   "source": [
    "# Este commando va in-line\n",
    "%matplotlib inline\n",
    "\n",
    "# Creando la distribucion de las palabras\n",
    "freqdist = nltk.FreqDist(words_ns)\n",
    "\n",
    "\n",
    "# Plottieando la distribucion de palabras\n",
    "freqdist.plot(25, color='blue', linewidth=2, markersize=12)"
   ]
  },
  {
   "cell_type": "markdown",
   "metadata": {},
   "source": [
    "## 9. La palabra más común\n",
    "<p>Bien! Ya tenemos la respuesta. </p>\n",
    "<p>Los skills que hemos usado en ésta notebook son los que usaría cualquier Data Scientist, verificando que la palabra más usada es GAUCHO </p>"
   ]
  },
  {
   "cell_type": "code",
   "execution_count": null,
   "metadata": {},
   "outputs": [],
   "source": []
  }
 ],
 "metadata": {
  "kernelspec": {
   "display_name": "Python 3",
   "language": "python",
   "name": "python3"
  },
  "language_info": {
   "codemirror_mode": {
    "name": "ipython",
    "version": 3
   },
   "file_extension": ".py",
   "mimetype": "text/x-python",
   "name": "python",
   "nbconvert_exporter": "python",
   "pygments_lexer": "ipython3",
   "version": "3.7.3"
  }
 },
 "nbformat": 4,
 "nbformat_minor": 2
}
